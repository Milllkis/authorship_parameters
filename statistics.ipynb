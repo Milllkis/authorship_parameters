{
  "nbformat": 4,
  "nbformat_minor": 0,
  "metadata": {
    "colab": {
      "provenance": []
    },
    "kernelspec": {
      "name": "python3",
      "display_name": "Python 3"
    },
    "language_info": {
      "name": "python"
    }
  },
  "cells": [
    {
      "cell_type": "code",
      "execution_count": 11,
      "metadata": {
        "id": "P_cHWclEbHzq"
      },
      "outputs": [],
      "source": [
        "import pandas as pd\n",
        "\n",
        "auth1409 = pd.read_csv('processed_1409.csv')\n",
        "auth1476 = pd.read_csv('processed_1476.csv')\n",
        "auth2083 = pd.read_csv('processed_2083.csv')\n",
        "auth3368 = pd.read_csv('processed_3368.csv')\n",
        "auth4291 = pd.read_csv('processed_4291.csv')\n",
        "auth918 = pd.read_csv('processed_918.csv')"
      ]
    },
    {
      "cell_type": "code",
      "source": [
        "from scipy import stats\n",
        "from scipy.stats import shapiro\n",
        "import scipy.stats as stats\n",
        "import numpy as np"
      ],
      "metadata": {
        "id": "PqyZkkbQf6je"
      },
      "execution_count": 12,
      "outputs": []
    },
    {
      "cell_type": "code",
      "source": [
        "not_norm = []\n",
        "total_stats = []\n",
        "\n",
        "for p in auth1409.columns[3:]:\n",
        "    if p.startswith('Min') or p.startswith('Max') or p.startswith('Median'):\n",
        "        continue\n",
        "    else:\n",
        "        try:\n",
        "            part1 = stats.boxcox(auth1409[p][:29])[0]\n",
        "            part2 = stats.boxcox(auth1409[p][29:58])[0]\n",
        "            part3 = stats.boxcox(auth1409[p][58:87])[0]\n",
        "            part4 = stats.boxcox(auth1409[p][87:])[0]\n",
        "\n",
        "            if shapiro(part1)[1] <= 0.05:\n",
        "                not_norm.append(p)\n",
        "            if shapiro(part2)[1] <= 0.05:\n",
        "                not_norm.append(p)\n",
        "            if shapiro(part3)[1] <= 0.05:\n",
        "                not_norm.append(p)\n",
        "            if shapiro(part4)[1] <= 0.05:\n",
        "                not_norm.append(p)\n",
        "        except:\n",
        "            continue\n",
        "\n",
        "for p in auth1409.columns[3:]:\n",
        "    if p.startswith('Min') or p.startswith('Max') or p.startswith('Median'):\n",
        "        continue\n",
        "    else:\n",
        "        if p in set(not_norm):\n",
        "            part1 = stats.boxcox(auth1409[p][:29])[0]\n",
        "            part2 = stats.boxcox(auth1409[p][29:58])[0]\n",
        "            part3 = stats.boxcox(auth1409[p][58:87])[0]\n",
        "            part4 = stats.boxcox(auth1409[p][87:])[0]\n",
        "        else:\n",
        "            part1 = auth1409[p][:29]\n",
        "            part2 = auth1409[p][29:58]\n",
        "            part3 = auth1409[p][58:87]\n",
        "            part4 = auth1409[p][87:]\n",
        "\n",
        "        f_statistic, p_value = stats.f_oneway(part1, part2, part3, part4)\n",
        "\n",
        "        if p_value >= 0.05:\n",
        "            total_stats.append(p)"
      ],
      "metadata": {
        "id": "p6E3Sxh_f9Ol"
      },
      "execution_count": 15,
      "outputs": []
    },
    {
      "cell_type": "code",
      "source": [
        "def get_params(df):\n",
        "    not_norm = []\n",
        "    total_stats = []\n",
        "\n",
        "    for p in df.columns[3:]:\n",
        "        if p.startswith('Min') or p.startswith('Max') or p.startswith('Median'):\n",
        "            continue\n",
        "        else:\n",
        "            try:\n",
        "                part1 = stats.boxcox(df[p][:29])[0]\n",
        "                part2 = stats.boxcox(df[p][29:58])[0]\n",
        "                part3 = stats.boxcox(df[p][58:])[0]\n",
        "\n",
        "                if shapiro(part1)[1] <= 0.05:\n",
        "                    not_norm.append(p)\n",
        "                if shapiro(part2)[1] <= 0.05:\n",
        "                    not_norm.append(p)\n",
        "                if shapiro(part3)[1] <= 0.05:\n",
        "                    not_norm.append(p)\n",
        "            except:\n",
        "                continue\n",
        "\n",
        "    for p in df.columns[3:]:\n",
        "        if p.startswith('Min') or p.startswith('Max') or p.startswith('Median'):\n",
        "            continue\n",
        "        else:\n",
        "            if p in set(not_norm):\n",
        "                part1 = stats.boxcox(df[p][:29])[0]\n",
        "                part2 = stats.boxcox(df[p][29:58])[0]\n",
        "                part3 = stats.boxcox(df[p][58:])[0]\n",
        "            else:\n",
        "                part1 = df[p][:29]\n",
        "                part2 = df[p][29:58]\n",
        "                part3 = df[p][58:]\n",
        "\n",
        "            f_statistic, p_value = stats.f_oneway(part1, part2, part3)\n",
        "\n",
        "            if p_value >= 0.05:\n",
        "                total_stats.append(p)\n",
        "\n",
        "    return total_stats"
      ],
      "metadata": {
        "id": "ooDtc-oEgAmf"
      },
      "execution_count": 16,
      "outputs": []
    },
    {
      "cell_type": "code",
      "source": [
        "params1409 = total_stats\n",
        "params1476 = get_params(auth1476)\n",
        "params2083 = get_params(auth2083)\n",
        "params3368 = get_params(auth3368)\n",
        "params4291 = get_params(auth4291)\n",
        "params918 = get_params(auth918)"
      ],
      "metadata": {
        "colab": {
          "base_uri": "https://localhost:8080/"
        },
        "id": "yj3dDujCgFRF",
        "outputId": "8d2fddb0-3663-4782-fa4a-ac3e25d4d195"
      },
      "execution_count": 17,
      "outputs": [
        {
          "output_type": "stream",
          "name": "stderr",
          "text": [
            "/usr/local/lib/python3.10/dist-packages/scipy/stats/_morestats.py:1879: UserWarning: Input data for shapiro has range zero. The results may not be accurate.\n",
            "  warnings.warn(\"Input data for shapiro has range zero. The results \"\n"
          ]
        }
      ]
    },
    {
      "cell_type": "code",
      "source": [
        "all_params = [p for p in auth1476.columns[3:] if not p.startswith('Min') and not p.startswith('Max') and not p.startswith('Median')]"
      ],
      "metadata": {
        "id": "g2Aj6lTwgJ3M"
      },
      "execution_count": 27,
      "outputs": []
    },
    {
      "cell_type": "code",
      "source": [
        "intersecting_values = set(params1409).intersection(params1476).intersection(params2083).intersection(params3368).intersection(params4291).intersection(params918)\n",
        "\n",
        "print(list(intersecting_values))"
      ],
      "metadata": {
        "colab": {
          "base_uri": "https://localhost:8080/"
        },
        "id": "xNBLTZ1YgNYi",
        "outputId": "deec0530-0a85-444a-c130-2d92cfe87676"
      },
      "execution_count": 28,
      "outputs": [
        {
          "output_type": "stream",
          "name": "stdout",
          "text": [
            "['Complex_sent_ratio']\n"
          ]
        }
      ]
    },
    {
      "cell_type": "code",
      "source": [
        "len(all_params)"
      ],
      "metadata": {
        "colab": {
          "base_uri": "https://localhost:8080/"
        },
        "id": "hrrPPlmABVn4",
        "outputId": "3f327919-d023-4c6b-f022-d55d8ec18438"
      },
      "execution_count": 29,
      "outputs": [
        {
          "output_type": "execute_result",
          "data": {
            "text/plain": [
              "40"
            ]
          },
          "metadata": {},
          "execution_count": 29
        }
      ]
    },
    {
      "cell_type": "code",
      "source": [
        "len(params1409)"
      ],
      "metadata": {
        "colab": {
          "base_uri": "https://localhost:8080/"
        },
        "id": "5wBTe-mCxkEQ",
        "outputId": "ef215f87-7db2-4f9d-96f3-fe66d0cb9c86"
      },
      "execution_count": 31,
      "outputs": [
        {
          "output_type": "execute_result",
          "data": {
            "text/plain": [
              "14"
            ]
          },
          "metadata": {},
          "execution_count": 31
        }
      ]
    },
    {
      "cell_type": "code",
      "source": [
        "len(params1476)"
      ],
      "metadata": {
        "colab": {
          "base_uri": "https://localhost:8080/"
        },
        "id": "41NOy5hGyAzh",
        "outputId": "9b2b87d2-22b5-4231-ffc7-6c5b6a9b905d"
      },
      "execution_count": 30,
      "outputs": [
        {
          "output_type": "execute_result",
          "data": {
            "text/plain": [
              "16"
            ]
          },
          "metadata": {},
          "execution_count": 30
        }
      ]
    },
    {
      "cell_type": "code",
      "source": [
        "len(params2083)"
      ],
      "metadata": {
        "colab": {
          "base_uri": "https://localhost:8080/"
        },
        "id": "0puj4CWCyCCr",
        "outputId": "806a6155-5260-4a2c-fe59-d4bb44ffef33"
      },
      "execution_count": 32,
      "outputs": [
        {
          "output_type": "execute_result",
          "data": {
            "text/plain": [
              "19"
            ]
          },
          "metadata": {},
          "execution_count": 32
        }
      ]
    },
    {
      "cell_type": "code",
      "source": [
        "len(params3368)"
      ],
      "metadata": {
        "colab": {
          "base_uri": "https://localhost:8080/"
        },
        "id": "g7Q4ws-AyDmc",
        "outputId": "b092ca7b-f5a3-4e1f-c1bc-a0595325bedc"
      },
      "execution_count": 33,
      "outputs": [
        {
          "output_type": "execute_result",
          "data": {
            "text/plain": [
              "9"
            ]
          },
          "metadata": {},
          "execution_count": 33
        }
      ]
    },
    {
      "cell_type": "code",
      "source": [
        "len(params4291)"
      ],
      "metadata": {
        "colab": {
          "base_uri": "https://localhost:8080/"
        },
        "id": "iWK9WDCIyFiC",
        "outputId": "bd58a58f-472a-4f98-ad21-c5a09ed1b8c6"
      },
      "execution_count": 34,
      "outputs": [
        {
          "output_type": "execute_result",
          "data": {
            "text/plain": [
              "25"
            ]
          },
          "metadata": {},
          "execution_count": 34
        }
      ]
    },
    {
      "cell_type": "code",
      "source": [
        "len(params918)"
      ],
      "metadata": {
        "colab": {
          "base_uri": "https://localhost:8080/"
        },
        "id": "JJKCLFAayHdA",
        "outputId": "85d01f17-988a-40fc-fbe2-0c6c33e46197"
      },
      "execution_count": 35,
      "outputs": [
        {
          "output_type": "execute_result",
          "data": {
            "text/plain": [
              "39"
            ]
          },
          "metadata": {},
          "execution_count": 35
        }
      ]
    }
  ]
}