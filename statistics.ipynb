{
  "nbformat": 4,
  "nbformat_minor": 0,
  "metadata": {
    "colab": {
      "provenance": [],
      "collapsed_sections": [
        "kD6z7WTgHUCe",
        "9v1oGHpmU4KS",
        "5JoLYiVxHCZt"
      ]
    },
    "kernelspec": {
      "name": "python3",
      "display_name": "Python 3"
    },
    "language_info": {
      "name": "python"
    }
  },
  "cells": [
    {
      "cell_type": "code",
      "execution_count": 81,
      "metadata": {
        "id": "P_cHWclEbHzq"
      },
      "outputs": [],
      "source": [
        "import pandas as pd\n",
        "\n",
        "auth1409 = pd.read_csv('processed_1409.csv')\n",
        "auth1476 = pd.read_csv('processed_1476.csv')\n",
        "auth2083 = pd.read_csv('processed_2083.csv')\n",
        "auth3368 = pd.read_csv('processed_3368.csv')\n",
        "auth4291 = pd.read_csv('processed_4291.csv')\n",
        "auth918 = pd.read_csv('processed_918.csv')"
      ]
    },
    {
      "cell_type": "code",
      "source": [
        "from scipy import stats\n",
        "from scipy.stats import shapiro\n",
        "import scipy.stats as stats\n",
        "import numpy as np"
      ],
      "metadata": {
        "id": "PqyZkkbQf6je"
      },
      "execution_count": 82,
      "outputs": []
    },
    {
      "cell_type": "code",
      "source": [
        "all_params = [p for p in auth1476.columns[3:] if not p.startswith('Min') and not p.startswith('Max') and not p.startswith('Median')]"
      ],
      "metadata": {
        "id": "5Unvy8ttSthv"
      },
      "execution_count": 83,
      "outputs": []
    },
    {
      "cell_type": "markdown",
      "source": [
        "## Тест на нормальное распределение"
      ],
      "metadata": {
        "id": "kD6z7WTgHUCe"
      }
    },
    {
      "cell_type": "code",
      "source": [
        "not_norm = []\n",
        "\n",
        "for p in all_params:\n",
        "    if not p.startswith('Min') and not p.startswith('Max') and not p.startswith('Median'):\n",
        "        try:\n",
        "            part1 = auth1409[p][:29]\n",
        "            part2 = auth1409[p][29:58]\n",
        "            part3 = auth1409[p][58:87]\n",
        "            part4 = auth1409[p][87:]\n",
        "\n",
        "            if shapiro(part1)[1] <= 0.05:\n",
        "                not_norm.append(p)\n",
        "            if shapiro(part2)[1] <= 0.05:\n",
        "                not_norm.append(p)\n",
        "            if shapiro(part3)[1] <= 0.05:\n",
        "                not_norm.append(p)\n",
        "            if shapiro(part4)[1] <= 0.05:\n",
        "                not_norm.append(p)\n",
        "        except:\n",
        "            continue\n",
        "\n",
        "if not_norm:\n",
        "    print(f'Рапределение отличается от нормального для {len(set(not_norm))} параметров из 40')\n",
        "else:\n",
        "    print('Рапределение нормальное')\n",
        "\n",
        "\n",
        "for p in all_params:\n",
        "    if not p.startswith('Min') and not p.startswith('Max') and not p.startswith('Median'):\n",
        "        if p in set(not_norm):\n",
        "            part1 = stats.boxcox(auth1409[p][:29])[0]\n",
        "            part2 = stats.boxcox(auth1409[p][29:58])[0]\n",
        "            part3 = stats.boxcox(auth1409[p][58:87])[0]\n",
        "            part4 = stats.boxcox(auth1409[p][87:])[0]\n",
        "            if shapiro(part1)[1] <= 0.05:\n",
        "                print(True, p, 'part1')\n",
        "            elif shapiro(part2)[1] <= 0.05:\n",
        "                print(True, p, 'part2')\n",
        "            elif shapiro(part3)[1] <= 0.05:\n",
        "                print(True, p, 'part3')\n",
        "            elif shapiro(part4)[1] <= 0.05:\n",
        "                print(True, p, 'part14')\n",
        "            else:\n",
        "              print(f'Для параметра {p} распределение стало номальным')\n",
        "\n",
        "# Данные приведены к нормальному распределению"
      ],
      "metadata": {
        "colab": {
          "base_uri": "https://localhost:8080/"
        },
        "id": "PX4s7u9rHfgX",
        "outputId": "4728ba40-a4f6-4e3a-bbb7-443ee443b9bc"
      },
      "execution_count": null,
      "outputs": [
        {
          "output_type": "stream",
          "name": "stdout",
          "text": [
            "Рапределение отличается от нормального для 25 параметров из 40\n",
            "Для параметра Compound_sent_ratio распределение стало номальным\n",
            "Для параметра Complex_sent_ratio распределение стало номальным\n",
            "Для параметра Lexical_items распределение стало номальным\n",
            "Для параметра Lexical_items_rs распределение стало номальным\n",
            "Для параметра Unique_lexical_items распределение стало номальным\n",
            "Для параметра Unique_lexical_items_rs распределение стало номальным\n",
            "Для параметра RTTR распределение стало номальным\n",
            "Для параметра CTTR распределение стало номальным\n",
            "Для параметра MTTR распределение стало номальным\n",
            "Для параметра RTTR_rs распределение стало номальным\n",
            "Для параметра CTTR_rs распределение стало номальным\n",
            "Для параметра MTTR_rs распределение стало номальным\n",
            "Для параметра MTLD_lemma распределение стало номальным\n",
            "Для параметра MTLD_wordform распределение стало номальным\n",
            "Для параметра MTLD_wordform_rs распределение стало номальным\n",
            "Для параметра Density_func распределение стало номальным\n",
            "Для параметра Density_total распределение стало номальным\n",
            "Для параметра Density_total_rs распределение стало номальным\n",
            "Для параметра Sophistication_lemmas распределение стало номальным\n",
            "Для параметра Sophistication_wordform распределение стало номальным\n",
            "Для параметра Sophistication_wordform_rs распределение стало номальным\n",
            "Для параметра Giraud_lemma распределение стало номальным\n",
            "Для параметра Giraud_lemma_rs распределение стало номальным\n",
            "Для параметра Giraud_wordform распределение стало номальным\n",
            "Для параметра Giraud_wordform_rs распределение стало номальным\n"
          ]
        }
      ]
    },
    {
      "cell_type": "markdown",
      "source": [
        "## ANOVA"
      ],
      "metadata": {
        "id": "9v1oGHpmU4KS"
      }
    },
    {
      "cell_type": "code",
      "source": [
        "not_norm = []\n",
        "total_stats = []\n",
        "\n",
        "for p in all_params:\n",
        "    if not p.startswith('Min') and not p.startswith('Max') and not p.startswith('Median'):\n",
        "        try:\n",
        "            part1 = stats.boxcox(auth1409[p][:29])[0]\n",
        "            part2 = stats.boxcox(auth1409[p][29:58])[0]\n",
        "            part3 = stats.boxcox(auth1409[p][58:87])[0]\n",
        "            part4 = stats.boxcox(auth1409[p][87:])[0]\n",
        "\n",
        "            if shapiro(part1)[1] <= 0.05:\n",
        "                not_norm.append(p)\n",
        "            if shapiro(part2)[1] <= 0.05:\n",
        "                not_norm.append(p)\n",
        "            if shapiro(part3)[1] <= 0.05:\n",
        "                not_norm.append(p)\n",
        "            if shapiro(part4)[1] <= 0.05:\n",
        "                not_norm.append(p)\n",
        "        except:\n",
        "            continue\n",
        "\n",
        "for p in all_params:\n",
        "    if not p.startswith('Min') and not p.startswith('Max') and not p.startswith('Median'):\n",
        "        if p in set(not_norm):\n",
        "            part1 = stats.boxcox(auth1409[p][:29])[0]\n",
        "            part2 = stats.boxcox(auth1409[p][29:58])[0]\n",
        "            part3 = stats.boxcox(auth1409[p][58:87])[0]\n",
        "            part4 = stats.boxcox(auth1409[p][87:])[0]\n",
        "        else:\n",
        "            part1 = auth1409[p][:29]\n",
        "            part2 = auth1409[p][29:58]\n",
        "            part3 = auth1409[p][58:87]\n",
        "            part4 = auth1409[p][87:]\n",
        "\n",
        "        f_statistic, p_value = stats.f_oneway(part1, part2, part3, part4)\n",
        "\n",
        "        if p_value <= 0.05:\n",
        "            print(p, p_value)\n",
        "            total_stats.append(p)"
      ],
      "metadata": {
        "id": "p6E3Sxh_f9Ol",
        "colab": {
          "base_uri": "https://localhost:8080/"
        },
        "outputId": "9431c7f7-0589-4330-9550-5984d1d31975"
      },
      "execution_count": 87,
      "outputs": [
        {
          "output_type": "stream",
          "name": "stdout",
          "text": [
            "Mean_Sentence_len 0.0009022629287252193\n",
            "Mean_Clause_len 0.012251236224702002\n",
            "Mean_Clause_count 0.0008207850243940744\n",
            "Compound_sent_ratio 2.2739785523438974e-12\n",
            "Mean_MDD 1.5429363921690415e-05\n",
            "Lexical_items 0.028205016557681612\n",
            "Lexical_items_rs 0.02184430205073874\n",
            "TTR 0.0001679767539701941\n",
            "TTR_rs 1.5761026146790538e-08\n",
            "MTTR_rs 0.04095954366117822\n",
            "MTLD_lemma 3.906650425873226e-08\n",
            "MTLD_wordform 2.0828790573781376e-07\n",
            "MTLD_lemma_rs 1.2078566031048764e-09\n",
            "MTLD_wordform_rs 7.539767127220315e-10\n",
            "HDD 1.3810068303236356e-06\n",
            "HDD_rs 1.2820384353947953e-05\n",
            "Density_func 1.0906547667176937e-05\n",
            "Density_fun_rs 1.3637182237333333e-06\n",
            "Density_total 0.00013323102716594084\n",
            "Density_total_rs 1.4976960905393505e-05\n",
            "Sophistication_lemmas 3.684389578579278e-08\n",
            "Sophistication_lemmas_rs 1.7456955913359487e-09\n",
            "Sophistication_wordform 7.000286783197708e-08\n",
            "Sophistication_wordform_rs 4.154593146063689e-10\n",
            "Mean_Tree_width 2.044653016858071e-06\n",
            "ISC 0.0300198828283338\n"
          ]
        }
      ]
    },
    {
      "cell_type": "code",
      "source": [
        "def get_params(df):\n",
        "    not_norm = []\n",
        "    total_stats = []\n",
        "\n",
        "    print(df.Author.unique())\n",
        "\n",
        "    for p in all_params:\n",
        "        if not p.startswith('Min') and not p.startswith('Max') and not p.startswith('Median'):\n",
        "            try:\n",
        "                part1 = stats.boxcox(df[p][:29])[0]\n",
        "                part2 = stats.boxcox(df[p][29:58])[0]\n",
        "                part3 = stats.boxcox(df[p][58:])[0]\n",
        "\n",
        "                if shapiro(part1)[1] <= 0.05:\n",
        "                    not_norm.append(p)\n",
        "                if shapiro(part2)[1] <= 0.05:\n",
        "                    not_norm.append(p)\n",
        "                if shapiro(part3)[1] <= 0.05:\n",
        "                    not_norm.append(p)\n",
        "            except:\n",
        "                continue\n",
        "\n",
        "    for p in all_params:\n",
        "        if not p.startswith('Min') and not p.startswith('Max') and not p.startswith('Median'):\n",
        "            if p in set(not_norm):\n",
        "                part1 = stats.boxcox(df[p][:29])[0]\n",
        "                part2 = stats.boxcox(df[p][29:58])[0]\n",
        "                part3 = stats.boxcox(df[p][58:])[0]\n",
        "            else:\n",
        "                part1 = df[p][:29]\n",
        "                part2 = df[p][29:58]\n",
        "                part3 = df[p][58:]\n",
        "\n",
        "            f_statistic, p_value = stats.f_oneway(part1, part2, part3)\n",
        "\n",
        "            if p_value <= 0.05:\n",
        "                print(p, p_value, '\\n')\n",
        "                total_stats.append(p)\n",
        "\n",
        "    return total_stats"
      ],
      "metadata": {
        "id": "ooDtc-oEgAmf"
      },
      "execution_count": 93,
      "outputs": []
    },
    {
      "cell_type": "code",
      "source": [
        "params1409 = total_stats\n",
        "params1476 = get_params(auth1476)\n",
        "params2083 = get_params(auth2083)\n",
        "params3368 = get_params(auth3368)\n",
        "params4291 = get_params(auth4291)\n",
        "params918 = get_params(auth918)"
      ],
      "metadata": {
        "colab": {
          "base_uri": "https://localhost:8080/"
        },
        "id": "yj3dDujCgFRF",
        "outputId": "7bd4a5f8-4e81-4fd9-91cb-57489d618e89"
      },
      "execution_count": 94,
      "outputs": [
        {
          "output_type": "stream",
          "name": "stdout",
          "text": [
            "['Автор 1476']\n",
            "Mean_NP_len 0.02756249168659006 \n",
            "\n",
            "Compound_sent_ratio 5.7563462876491494e-05 \n",
            "\n",
            "Mean_MDD 0.00034523111059721416 \n",
            "\n",
            "TTR 8.686253345472515e-08 \n",
            "\n",
            "RTTR 0.004484473157060379 \n",
            "\n",
            "CTTR 0.004484473157060426 \n",
            "\n",
            "MTTR 0.01523617627534759 \n",
            "\n",
            "TTR_rs 8.902280459434243e-05 \n",
            "\n",
            "RTTR_rs 0.04429665806529182 \n",
            "\n",
            "CTTR_rs 0.04429665806529182 \n",
            "\n",
            "MTLD_lemma 7.160431579007951e-05 \n",
            "\n",
            "MTLD_wordform 0.011578311451781238 \n",
            "\n",
            "MTLD_lemma_rs 9.295968880043458e-05 \n",
            "\n",
            "MTLD_wordform_rs 0.006970055008632145 \n",
            "\n",
            "Density_func 0.0007122356380506749 \n",
            "\n",
            "Density_fun_rs 8.376083578338826e-05 \n",
            "\n",
            "Density_total 0.0006847379464693491 \n",
            "\n",
            "Density_total_rs 0.0001617754961490542 \n",
            "\n",
            "Sophistication_lemmas 6.592637474493068e-05 \n",
            "\n",
            "Sophistication_lemmas_rs 0.00012724255417461439 \n",
            "\n",
            "Sophistication_wordform 0.005814455133904262 \n",
            "\n",
            "Sophistication_wordform_rs 0.005456671336891503 \n",
            "\n",
            "Mean_Tree_depth "
          ]
        },
        {
          "output_type": "stream",
          "name": "stderr",
          "text": [
            "/usr/local/lib/python3.10/dist-packages/scipy/stats/_morestats.py:1879: UserWarning: Input data for shapiro has range zero. The results may not be accurate.\n",
            "  warnings.warn(\"Input data for shapiro has range zero. The results \"\n"
          ]
        },
        {
          "output_type": "stream",
          "name": "stdout",
          "text": [
            "0.00015753731288589443 \n",
            "\n",
            "ISC 0.0008375066488095083 \n",
            "\n",
            "['Автор 2083']\n",
            "Unique_lexical_items 0.012169453516006862 \n",
            "\n",
            "Unique_lexical_items_rs 0.014080791318052824 \n",
            "\n",
            "RTTR 0.006593318023752933 \n",
            "\n",
            "CTTR 0.006593318023752933 \n",
            "\n",
            "MTTR 0.04243478884629579 \n",
            "\n",
            "RTTR_rs 0.00414667528461703 \n",
            "\n",
            "CTTR_rs 0.004146675284617008 \n",
            "\n",
            "MTTR_rs 2.5021342254495355e-51 \n",
            "\n",
            "MTLD_wordform 0.04336360450999998 \n",
            "\n",
            "MTLD_wordform_rs 0.009287644613141967 \n",
            "\n",
            "HDD 0.008796876665858032 \n",
            "\n",
            "HDD_rs 0.000539418554562541 \n",
            "\n",
            "Density_func 0.0296896975553038 \n",
            "\n",
            "Density_total 0.022862203146125196 \n",
            "\n",
            "Density_total_rs 0.03225813233161269 \n",
            "\n",
            "Sophistication_wordform_rs 0.022617816819020115 \n",
            "\n",
            "Giraud_lemma 0.0005733391763287767 \n",
            "\n",
            "Giraud_lemma_rs 0.0007554626885589126 \n",
            "\n",
            "Giraud_wordform 0.0005733391763287767 \n",
            "\n",
            "Giraud_wordform_rs 0.0007554626885589126 \n",
            "\n",
            "Mean_Tree_depth 0.04794047251240539 \n",
            "\n",
            "['Автор 3368']\n",
            "Mean_Clause_len 8.59066476297553e-08 \n",
            "\n",
            "Mean_Clause_count 0.0006014049875819649 \n",
            "\n",
            "Compound_sent_ratio 0.00026831636494708503 \n",
            "\n",
            "Mean_MDD 0.024602150413329252 \n",
            "\n",
            "Lexical_items 1.7604715664960084e-51 \n",
            "\n",
            "Lexical_items_rs 6.518582175289268e-57 \n",
            "\n",
            "Unique_lexical_items 0.001915838615300388 \n",
            "\n",
            "Unique_lexical_items_rs 0.0024674793079021502 \n",
            "\n",
            "TTR 7.822934893509188e-36 \n",
            "\n",
            "MTTR 5.801504075347709e-31 \n",
            "\n",
            "TTR_rs 0.001343942939490642 \n",
            "\n",
            "MTTR_rs 3.0443155852455024e-20 \n",
            "\n",
            "MTLD_lemma 9.734685120321251e-47 \n",
            "\n",
            "MTLD_wordform 0.00015782010048174795 \n",
            "\n",
            "MTLD_lemma_rs 0.0018808893621644741 \n",
            "\n",
            "MTLD_wordform_rs 0.001421404954119406 \n",
            "\n",
            "HDD 0.019591789064617605 \n",
            "\n",
            "HDD_rs 0.045207138216368375 \n",
            "\n",
            "Density_func 0.0017981570119017097 \n",
            "\n",
            "Density_fun_rs 0.012841711430245085 \n",
            "\n",
            "Density_total 0.00025675941249101515 \n",
            "\n",
            "Density_total_rs 0.0012010415558532822 \n",
            "\n",
            "Sophistication_lemmas 0.0011598593483685827 \n",
            "\n",
            "Sophistication_lemmas_rs 0.0029800335590087577 \n",
            "\n",
            "Sophistication_wordform 0.0005941011295541343 \n",
            "\n",
            "Sophistication_wordform_rs 0.0031276180070866936 \n",
            "\n",
            "Giraud_lemma 0.004619523716362756 \n",
            "\n",
            "Giraud_lemma_rs 0.0024696639205755645 \n",
            "\n",
            "Giraud_wordform 0.004619523716362756 \n",
            "\n",
            "Giraud_wordform_rs 0.0024696639205755645 \n",
            "\n",
            "Mean_Tree_width 0.04092866299847605 \n",
            "\n",
            "['Автор 4291']\n",
            "Lexical_items 0.01066433846984072 \n",
            "\n",
            "Lexical_items_rs 0.008301115262248818 \n",
            "\n",
            "Unique_lexical_items 0.006482725905164143 \n",
            "\n",
            "Unique_lexical_items_rs 0.006092163374927348 \n",
            "\n",
            "RTTR 0.013204838099980581 \n",
            "\n",
            "CTTR 0.013204838099980581 \n",
            "\n",
            "MTTR 0.005777805893750141 \n",
            "\n",
            "RTTR_rs 0.008042212050838106 \n",
            "\n",
            "CTTR_rs 0.008042212050838106 \n",
            "\n",
            "MTTR_rs 0.009767036111442263 \n",
            "\n",
            "HDD 0.028562462700073232 \n",
            "\n",
            "Giraud_lemma 0.006417476937698223 \n",
            "\n",
            "Giraud_lemma_rs 0.007791265280940826 \n",
            "\n",
            "Giraud_wordform 0.006417476937698223 \n",
            "\n",
            "Giraud_wordform_rs 0.007791265280940826 \n",
            "\n",
            "['Автор 918']\n",
            "Mean_Clause_len 1.0340252478463865e-45 \n",
            "\n"
          ]
        }
      ]
    },
    {
      "cell_type": "code",
      "source": [
        "0.0058 < 0.0098"
      ],
      "metadata": {
        "colab": {
          "base_uri": "https://localhost:8080/"
        },
        "id": "HweEFGi4x8aM",
        "outputId": "196bd9d1-431e-4a0c-de8e-a9c8335a7061"
      },
      "execution_count": 108,
      "outputs": [
        {
          "output_type": "execute_result",
          "data": {
            "text/plain": [
              "True"
            ]
          },
          "metadata": {},
          "execution_count": 108
        }
      ]
    },
    {
      "cell_type": "code",
      "source": [
        "len(all_params)"
      ],
      "metadata": {
        "colab": {
          "base_uri": "https://localhost:8080/"
        },
        "id": "hrrPPlmABVn4",
        "outputId": "ebaa0008-854c-4713-adc9-aa93201b2212"
      },
      "execution_count": null,
      "outputs": [
        {
          "output_type": "execute_result",
          "data": {
            "text/plain": [
              "40"
            ]
          },
          "metadata": {},
          "execution_count": 78
        }
      ]
    },
    {
      "cell_type": "code",
      "source": [
        "len(params1409)"
      ],
      "metadata": {
        "colab": {
          "base_uri": "https://localhost:8080/"
        },
        "id": "5wBTe-mCxkEQ",
        "outputId": "82eb2cf7-6c52-4e9d-947d-a992151372ed"
      },
      "execution_count": null,
      "outputs": [
        {
          "output_type": "execute_result",
          "data": {
            "text/plain": [
              "26"
            ]
          },
          "metadata": {},
          "execution_count": 79
        }
      ]
    },
    {
      "cell_type": "code",
      "source": [
        "len(params1476)"
      ],
      "metadata": {
        "colab": {
          "base_uri": "https://localhost:8080/"
        },
        "id": "41NOy5hGyAzh",
        "outputId": "c0b46c8f-3c74-452b-eef4-5efa45df498c"
      },
      "execution_count": null,
      "outputs": [
        {
          "output_type": "execute_result",
          "data": {
            "text/plain": [
              "24"
            ]
          },
          "metadata": {},
          "execution_count": 80
        }
      ]
    },
    {
      "cell_type": "code",
      "source": [
        "len(params2083)"
      ],
      "metadata": {
        "colab": {
          "base_uri": "https://localhost:8080/"
        },
        "id": "0puj4CWCyCCr",
        "outputId": "f565207e-ef88-4088-c3f2-685d76b2b2c1"
      },
      "execution_count": null,
      "outputs": [
        {
          "output_type": "execute_result",
          "data": {
            "text/plain": [
              "21"
            ]
          },
          "metadata": {},
          "execution_count": 11
        }
      ]
    },
    {
      "cell_type": "code",
      "source": [
        "len(params3368)"
      ],
      "metadata": {
        "colab": {
          "base_uri": "https://localhost:8080/"
        },
        "id": "g7Q4ws-AyDmc",
        "outputId": "3da76ab4-d4be-4d19-e60b-b20c249c971b"
      },
      "execution_count": null,
      "outputs": [
        {
          "output_type": "execute_result",
          "data": {
            "text/plain": [
              "31"
            ]
          },
          "metadata": {},
          "execution_count": 12
        }
      ]
    },
    {
      "cell_type": "code",
      "source": [
        "len(params4291)"
      ],
      "metadata": {
        "colab": {
          "base_uri": "https://localhost:8080/"
        },
        "id": "iWK9WDCIyFiC",
        "outputId": "f9d1a10a-2a6a-4510-c679-0fa71d9117b2"
      },
      "execution_count": null,
      "outputs": [
        {
          "output_type": "execute_result",
          "data": {
            "text/plain": [
              "15"
            ]
          },
          "metadata": {},
          "execution_count": 13
        }
      ]
    },
    {
      "cell_type": "code",
      "source": [
        "len(params918)"
      ],
      "metadata": {
        "colab": {
          "base_uri": "https://localhost:8080/"
        },
        "id": "JJKCLFAayHdA",
        "outputId": "0ab580f2-16e9-4050-ee0b-1432634cb01a"
      },
      "execution_count": null,
      "outputs": [
        {
          "output_type": "execute_result",
          "data": {
            "text/plain": [
              "1"
            ]
          },
          "metadata": {},
          "execution_count": 14
        }
      ]
    },
    {
      "cell_type": "code",
      "source": [
        "intersecting_values = set(params3368).intersection(params1409).intersection(params1476).intersection(params2083).intersection(params4291)\n",
        "\n",
        "print(list(intersecting_values))"
      ],
      "metadata": {
        "colab": {
          "base_uri": "https://localhost:8080/"
        },
        "id": "xNBLTZ1YgNYi",
        "outputId": "f34b4243-c4e1-4201-fb88-782e092f3d4c"
      },
      "execution_count": null,
      "outputs": [
        {
          "output_type": "stream",
          "name": "stdout",
          "text": [
            "[]\n"
          ]
        }
      ]
    },
    {
      "cell_type": "markdown",
      "source": [
        "## Самый значимый параметр"
      ],
      "metadata": {
        "id": "5JoLYiVxHCZt"
      }
    },
    {
      "cell_type": "code",
      "source": [
        "not_norm = []\n",
        "total_stats = []\n",
        "\n",
        "p_val_min = 0.05\n",
        "param_min = 'Not found'\n",
        "\n",
        "for p in all_params:\n",
        "    if not p.startswith('Min') and not p.startswith('Max') and not p.startswith('Median'):\n",
        "        try:\n",
        "            part1 = stats.boxcox(auth1409[p][:29])[0]\n",
        "            part2 = stats.boxcox(auth1409[p][29:58])[0]\n",
        "            part3 = stats.boxcox(auth1409[p][58:87])[0]\n",
        "            part4 = stats.boxcox(auth1409[p][87:])[0]\n",
        "\n",
        "            if shapiro(part1)[1] <= 0.05:\n",
        "                not_norm.append(p)\n",
        "            if shapiro(part2)[1] <= 0.05:\n",
        "                not_norm.append(p)\n",
        "            if shapiro(part3)[1] <= 0.05:\n",
        "                not_norm.append(p)\n",
        "            if shapiro(part4)[1] <= 0.05:\n",
        "                not_norm.append(p)\n",
        "        except:\n",
        "            continue\n",
        "\n",
        "for p in all_params:\n",
        "    if not p.startswith('Min') and not p.startswith('Max') and not p.startswith('Median'):\n",
        "        if p in set(not_norm):\n",
        "            part1 = stats.boxcox(auth1409[p][:29])[0]\n",
        "            part2 = stats.boxcox(auth1409[p][29:58])[0]\n",
        "            part3 = stats.boxcox(auth1409[p][58:87])[0]\n",
        "            part4 = stats.boxcox(auth1409[p][87:])[0]\n",
        "        else:\n",
        "            part1 = auth1409[p][:29]\n",
        "            part2 = auth1409[p][29:58]\n",
        "            part3 = auth1409[p][58:87]\n",
        "            part4 = auth1409[p][87:]\n",
        "\n",
        "        f_statistic, p_value = stats.f_oneway(part1, part2, part3, part4)\n",
        "\n",
        "        if p_value <= 0.05:\n",
        "            if p_value < p_val_min:\n",
        "                p_val_min = p_value\n",
        "                param_min = p"
      ],
      "metadata": {
        "id": "RqN3c666HBeu"
      },
      "execution_count": 120,
      "outputs": []
    },
    {
      "cell_type": "code",
      "source": [
        "param_min"
      ],
      "metadata": {
        "colab": {
          "base_uri": "https://localhost:8080/",
          "height": 35
        },
        "id": "hNQPp81FHOE4",
        "outputId": "53d8ce9d-b260-44dd-91ef-65a7feaeb5c1"
      },
      "execution_count": 121,
      "outputs": [
        {
          "output_type": "execute_result",
          "data": {
            "text/plain": [
              "'Compound_sent_ratio'"
            ],
            "application/vnd.google.colaboratory.intrinsic+json": {
              "type": "string"
            }
          },
          "metadata": {},
          "execution_count": 121
        }
      ]
    },
    {
      "cell_type": "code",
      "source": [
        "def get_minimal(df):\n",
        "    not_norm = []\n",
        "    total_stats = []\n",
        "\n",
        "    p_val_min = 0.05\n",
        "    param_min = 'Not found'\n",
        "\n",
        "    for p in all_params:\n",
        "        if not p.startswith('Min') and not p.startswith('Max') and not p.startswith('Median'):\n",
        "            try:\n",
        "                part1 = stats.boxcox(df[p][:29])[0]\n",
        "                part2 = stats.boxcox(df[p][29:58])[0]\n",
        "                part3 = stats.boxcox(df[p][58:])[0]\n",
        "\n",
        "                if shapiro(part1)[1] <= 0.05:\n",
        "                    not_norm.append(p)\n",
        "                if shapiro(part2)[1] <= 0.05:\n",
        "                    not_norm.append(p)\n",
        "                if shapiro(part3)[1] <= 0.05:\n",
        "                    not_norm.append(p)\n",
        "            except:\n",
        "                continue\n",
        "\n",
        "    for p in all_params:\n",
        "        if not p.startswith('Min') and not p.startswith('Max') and not p.startswith('Median'):\n",
        "            if p in set(not_norm):\n",
        "                part1 = stats.boxcox(df[p][:29])[0]\n",
        "                part2 = stats.boxcox(df[p][29:58])[0]\n",
        "                part3 = stats.boxcox(df[p][58:])[0]\n",
        "            else:\n",
        "                part1 = df[p][:29]\n",
        "                part2 = df[p][29:58]\n",
        "                part3 = df[p][58:]\n",
        "\n",
        "            f_statistic, p_value = stats.f_oneway(part1, part2, part3)\n",
        "\n",
        "            if p_value <= 0.05:\n",
        "                if p_value < p_val_min:\n",
        "                    p_val_min = p_value\n",
        "                    param_min = p\n",
        "\n",
        "    return param_min"
      ],
      "metadata": {
        "id": "P7CXTi4nGUYW"
      },
      "execution_count": 122,
      "outputs": []
    },
    {
      "cell_type": "code",
      "source": [
        "param1476 = get_minimal(auth1476)\n",
        "param2083 = get_minimal(auth2083)\n",
        "param3368 = get_minimal(auth3368)\n",
        "param4291 = get_minimal(auth4291)\n",
        "param918 = get_minimal(auth918)"
      ],
      "metadata": {
        "colab": {
          "base_uri": "https://localhost:8080/"
        },
        "id": "Zk-2OPW5GUSZ",
        "outputId": "5c191b42-7b14-4b5d-cd29-0d0b27a07b69"
      },
      "execution_count": 123,
      "outputs": [
        {
          "output_type": "stream",
          "name": "stderr",
          "text": [
            "/usr/local/lib/python3.10/dist-packages/scipy/stats/_morestats.py:1879: UserWarning: Input data for shapiro has range zero. The results may not be accurate.\n",
            "  warnings.warn(\"Input data for shapiro has range zero. The results \"\n"
          ]
        }
      ]
    },
    {
      "cell_type": "code",
      "source": [
        "param1476"
      ],
      "metadata": {
        "colab": {
          "base_uri": "https://localhost:8080/",
          "height": 35
        },
        "id": "DGufHYZkG26O",
        "outputId": "40186372-bff6-46b3-c277-237abd66ba70"
      },
      "execution_count": 124,
      "outputs": [
        {
          "output_type": "execute_result",
          "data": {
            "text/plain": [
              "'TTR'"
            ],
            "application/vnd.google.colaboratory.intrinsic+json": {
              "type": "string"
            }
          },
          "metadata": {},
          "execution_count": 124
        }
      ]
    },
    {
      "cell_type": "code",
      "source": [
        "param2083"
      ],
      "metadata": {
        "colab": {
          "base_uri": "https://localhost:8080/",
          "height": 35
        },
        "id": "peJ-C-leG41O",
        "outputId": "c648409c-9121-462a-b1ba-571a567d2590"
      },
      "execution_count": 125,
      "outputs": [
        {
          "output_type": "execute_result",
          "data": {
            "text/plain": [
              "'MTTR_rs'"
            ],
            "application/vnd.google.colaboratory.intrinsic+json": {
              "type": "string"
            }
          },
          "metadata": {},
          "execution_count": 125
        }
      ]
    },
    {
      "cell_type": "code",
      "source": [
        "param3368"
      ],
      "metadata": {
        "colab": {
          "base_uri": "https://localhost:8080/",
          "height": 35
        },
        "id": "QOgkkORNG6NJ",
        "outputId": "9786636d-c54a-4491-b5eb-4ef2c2633aed"
      },
      "execution_count": 126,
      "outputs": [
        {
          "output_type": "execute_result",
          "data": {
            "text/plain": [
              "'Lexical_items_rs'"
            ],
            "application/vnd.google.colaboratory.intrinsic+json": {
              "type": "string"
            }
          },
          "metadata": {},
          "execution_count": 126
        }
      ]
    },
    {
      "cell_type": "code",
      "source": [
        "param4291"
      ],
      "metadata": {
        "colab": {
          "base_uri": "https://localhost:8080/",
          "height": 35
        },
        "id": "YT3F7AHuG7qa",
        "outputId": "00c787bd-569a-49a7-cdf2-484547442db6"
      },
      "execution_count": 127,
      "outputs": [
        {
          "output_type": "execute_result",
          "data": {
            "text/plain": [
              "'MTTR'"
            ],
            "application/vnd.google.colaboratory.intrinsic+json": {
              "type": "string"
            }
          },
          "metadata": {},
          "execution_count": 127
        }
      ]
    },
    {
      "cell_type": "code",
      "source": [
        "param918"
      ],
      "metadata": {
        "colab": {
          "base_uri": "https://localhost:8080/",
          "height": 35
        },
        "id": "DHfEheNuG9Bz",
        "outputId": "e6b8b5d0-195c-4acb-ad3d-93b34757925a"
      },
      "execution_count": 128,
      "outputs": [
        {
          "output_type": "execute_result",
          "data": {
            "text/plain": [
              "'Mean_Clause_len'"
            ],
            "application/vnd.google.colaboratory.intrinsic+json": {
              "type": "string"
            }
          },
          "metadata": {},
          "execution_count": 128
        }
      ]
    }
  ]
}